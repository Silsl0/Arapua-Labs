{
  "cells": [
    {
      "cell_type": "markdown",
      "metadata": {
        "id": "view-in-github",
        "colab_type": "text"
      },
      "source": [
        "<a href=\"https://colab.research.google.com/github/Silsl0/SertAI/blob/main/SertAI_Results_WebMap.ipynb\" target=\"_parent\"><img src=\"https://colab.research.google.com/assets/colab-badge.svg\" alt=\"Open In Colab\"/></a>"
      ]
    },
    {
      "cell_type": "markdown",
      "metadata": {
        "id": "OPKpwLjF461V"
      },
      "source": [
        "\n",
        "# SertAI — **Resultados & Web Map** (Folium)\n",
        "Notebook simples: lê os **exports** (GeoJSON) e gera um **mapa interativo** com camadas (lagoas chuvoso/seco, vetores de migração) e **KPIs** (áreas e velocidades).\n",
        "\n",
        "**Entrada (no Google Drive):**\n",
        "- Pasta: `/content/drive/MyDrive/SertAI_GEE_Exports/`\n",
        "- `Polygons_Lagoons_Wet.geojson`\n",
        "- `Polygons_Lagoons_Dry.geojson`\n",
        "- `offset_outputs/offset_vectors_lines.geojson` *(ou)* `offset_outputs/offset_vectors.geojson`\n",
        "\n",
        "**Saída:**\n",
        "- `map_resultados.html` (na mesma pasta)\n",
        "- `summary_results.json` (KPIs numéricos)\n"
      ],
      "id": "OPKpwLjF461V"
    },
    {
      "cell_type": "code",
      "metadata": {
        "id": "4fR-m-Ar461X"
      },
      "source": [
        "%pip install -q folium geopandas shapely pyproj mapclassify"
      ],
      "id": "4fR-m-Ar461X",
      "execution_count": 34,
      "outputs": []
    },
    {
      "cell_type": "code",
      "metadata": {
        "id": "BORDZW_d461Y"
      },
      "source": [
        "\n",
        "# ==== Parâmetros ====\n",
        "DRIVE_DIR = '/content/drive/MyDrive/SertAI_GEE_Exports'\n",
        "WET_GJ    = f'{DRIVE_DIR}/Polygons_Lagoons_Wet.geojson'\n",
        "DRY_GJ    = f'{DRIVE_DIR}/Polygons_Lagoons_Dry.geojson'\n",
        "LINES_GJ  = f'{DRIVE_DIR}/offset_outputs/offset_vectors_lines.geojson'\n",
        "POINTS_GJ = f'{DRIVE_DIR}/offset_outputs/offset_vectors.geojson'  # fallback se LINES não existir\n",
        "OUT_HTML  = f'{DRIVE_DIR}/map_resultados.html'\n",
        "OUT_JSON  = f'{DRIVE_DIR}/summary_results.json'\n",
        "\n",
        "# Se não tiver linhas, criar linhas curtas a partir dos pontos (dx_m,dy_m)\n",
        "MAKE_LINES_FROM_POINTS = True\n",
        "WET_DATE = '2024-05-15'   # apenas para legenda/resumo\n",
        "DRY_DATE = '2024-09-15'\n"
      ],
      "id": "BORDZW_d461Y",
      "execution_count": 35,
      "outputs": []
    },
    {
      "cell_type": "code",
      "metadata": {
        "colab": {
          "base_uri": "https://localhost:8080/"
        },
        "id": "BjY7JQW_461Y",
        "outputId": "cd5c5767-16a2-4c93-b762-b94150f1ee79"
      },
      "source": [
        "\n",
        "import sys, os\n",
        "if 'google.colab' in sys.modules:\n",
        "    from google.colab import drive\n",
        "    drive.mount('/content/drive', force_remount=True)\n",
        "\n",
        "print('Arquivos:')\n",
        "for p in [WET_GJ, DRY_GJ, LINES_GJ, POINTS_GJ]:\n",
        "    print(os.path.exists(p), p)\n"
      ],
      "id": "BjY7JQW_461Y",
      "execution_count": 36,
      "outputs": [
        {
          "output_type": "stream",
          "name": "stdout",
          "text": [
            "Mounted at /content/drive\n",
            "Arquivos:\n",
            "True /content/drive/MyDrive/SertAI_GEE_Exports/Polygons_Lagoons_Wet.geojson\n",
            "True /content/drive/MyDrive/SertAI_GEE_Exports/Polygons_Lagoons_Dry.geojson\n",
            "False /content/drive/MyDrive/SertAI_GEE_Exports/offset_outputs/offset_vectors_lines.geojson\n",
            "True /content/drive/MyDrive/SertAI_GEE_Exports/offset_outputs/offset_vectors.geojson\n"
          ]
        }
      ]
    },
    {
      "cell_type": "code",
      "metadata": {
        "colab": {
          "base_uri": "https://localhost:8080/"
        },
        "id": "nX0Gr-mG461Y",
        "outputId": "b53cfebf-6b4d-4b6d-a914-f80d7fc57801"
      },
      "source": [
        "\n",
        "import geopandas as gpd\n",
        "from shapely.geometry import LineString, Point\n",
        "import numpy as np\n",
        "import json\n",
        "\n",
        "# Carregar lagoas\n",
        "wet = gpd.read_file(WET_GJ)\n",
        "dry = gpd.read_file(DRY_GJ)\n",
        "\n",
        "# CRS seguro para áreas (UTM pela longitude do centróide das lagoas)\n",
        "def auto_utm_crs(gdf):\n",
        "    c = gdf.to_crs(4326).geometry.unary_union.centroid\n",
        "    lon, lat = c.x, c.y\n",
        "    zone = int((lon + 180)//6) + 1\n",
        "    south = \"+south\" if lat < 0 else \"\"\n",
        "    return f\"+proj=utm +zone={zone} {south} +datum=WGS84 +units=m +no_defs\"\n",
        "\n",
        "utm = auto_utm_crs(wet)\n",
        "\n",
        "wet_m = wet.to_crs(utm); dry_m = dry.to_crs(utm)\n",
        "wet_area_km2 = float(wet_m.area.sum()/1e6)\n",
        "dry_area_km2 = float(dry_m.area.sum()/1e6)\n",
        "delta_km2 = wet_area_km2 - dry_area_km2\n",
        "\n",
        "# Carregar vetores (linhas)\n",
        "lines = None\n",
        "if os.path.exists(LINES_GJ):\n",
        "    lines = gpd.read_file(LINES_GJ)\n",
        "elif os.path.exists(POINTS_GJ) and MAKE_LINES_FROM_POINTS:\n",
        "    pts = gpd.read_file(POINTS_GJ)\n",
        "    # criar linhas curtas (F=5 para visualizar)\n",
        "    F = 5.0\n",
        "    if 'dx_m' in pts.columns and 'dy_m' in pts.columns:\n",
        "        geoms = []\n",
        "        for _, r in pts.iterrows():\n",
        "            if r.geometry is None or not isinstance(r.geometry, Point):\n",
        "                continue\n",
        "            x, y = r.geometry.x, r.geometry.y\n",
        "            geoms.append(LineString([(x, y), (x + F*float(r.get('dx_m',0)), y + F*float(r.get('dy_m',0)))]))\n",
        "        keep_cols = [c for c in pts.columns if c in ('speed_m_per_year','dir_deg_math','error')]\n",
        "        lines = gpd.GeoDataFrame(pts[keep_cols].copy(), geometry=geoms, crs=pts.crs)\n",
        "    else:\n",
        "        # sem dx/dy, apenas pontos\n",
        "        lines = None\n",
        "\n",
        "# KPIs de velocidade (se existirem)\n",
        "kpis = {}\n",
        "if lines is not None and 'speed_m_per_year' in lines.columns:\n",
        "    sp = lines['speed_m_per_year'].astype(float).replace([np.inf,-np.inf], np.nan).dropna()\n",
        "    if len(sp) > 0:\n",
        "        kpis['speed_p50'] = float(sp.quantile(0.50))\n",
        "        kpis['speed_p90'] = float(sp.quantile(0.90))\n",
        "        # direção média (bearing 0°=N) a partir de dx/dy se existirem, senão usar dir_deg_math\n",
        "        if {'dx_m','dy_m'}.issubset(lines.columns):\n",
        "            dx = lines['dx_m'].astype(float); dy = lines['dy_m'].astype(float)\n",
        "            mean_dir = float(np.degrees(np.arctan2(dy.mean(), dx.mean())))\n",
        "        elif 'dir_deg_math' in lines.columns:\n",
        "            mean_dir = float(np.nanmean(lines['dir_deg_math'].astype(float)))\n",
        "        else:\n",
        "            mean_dir = np.nan\n",
        "        mean_bearing = (90 - mean_dir) % 360 if np.isfinite(mean_dir) else np.nan\n",
        "        kpis['mean_bearing_deg'] = float(mean_bearing) if np.isfinite(mean_bearing) else None\n",
        "\n",
        "kpis['wet_area_km2'] = wet_area_km2\n",
        "kpis['dry_area_km2'] = dry_area_km2\n",
        "kpis['delta_km2']    = delta_km2\n",
        "kpis['period'] = f\"{WET_DATE} → {DRY_DATE}\"\n",
        "\n",
        "with open(OUT_JSON, 'w') as f:\n",
        "    json.dump(kpis, f, indent=2)\n",
        "\n",
        "print('KPIs:', json.dumps(kpis, indent=2))\n"
      ],
      "id": "nX0Gr-mG461Y",
      "execution_count": 37,
      "outputs": [
        {
          "output_type": "stream",
          "name": "stderr",
          "text": [
            "/tmp/ipython-input-677975485.py:12: DeprecationWarning: The 'unary_union' attribute is deprecated, use the 'union_all()' method instead.\n",
            "  c = gdf.to_crs(4326).geometry.unary_union.centroid\n"
          ]
        },
        {
          "output_type": "stream",
          "name": "stdout",
          "text": [
            "KPIs: {\n",
            "  \"speed_p50\": 0.0,\n",
            "  \"speed_p90\": 29.64876572745471,\n",
            "  \"mean_bearing_deg\": 91.70956100917904,\n",
            "  \"wet_area_km2\": 623.3762887369749,\n",
            "  \"dry_area_km2\": 453.91479669836997,\n",
            "  \"delta_km2\": 169.4614920386049,\n",
            "  \"period\": \"2024-05-15 \\u2192 2024-09-15\"\n",
            "}\n"
          ]
        }
      ]
    },
    {
      "cell_type": "code",
      "metadata": {
        "colab": {
          "base_uri": "https://localhost:8080/",
          "height": 35
        },
        "id": "UxojDW6C461Z",
        "outputId": "18fb461b-18db-4bfd-c730-037e9dc5a803"
      },
      "source": [
        "# ======================\n",
        "# Final Web Map (Folium) — English UI\n",
        "# ======================\n",
        "import folium\n",
        "from folium.features import GeoJsonTooltip\n",
        "from folium.plugins import Fullscreen, MiniMap, MeasureControl, MousePosition\n",
        "import numpy as np\n",
        "import os, json\n",
        "\n",
        "# ---- visual params ----\n",
        "BINS = [20, 40, 80, 120]                 # fixed classes (m/yr): ≤20, ≤40, ≤80, ≤120, >\n",
        "COLS = ['#a6cee3', '#1f78b4', '#33a02c', '#fb9a99', '#e31a1c']\n",
        "FAST_TH = 20                              # “Fast vectors” layer: > FAST_TH m/yr\n",
        "\n",
        "# performance\n",
        "SIMPLIFY_LINES = True\n",
        "SIMPL_TOL_M = 5.0                         # simplification tolerance (m)\n",
        "\n",
        "def color_by_speed(v, qs=BINS, cols=COLS):\n",
        "    try:\n",
        "        v = float(v)\n",
        "    except:\n",
        "        return cols[0]\n",
        "    for q, c in zip(qs, cols):\n",
        "        if v <= q:\n",
        "            return c\n",
        "    return cols[-1]\n",
        "\n",
        "def auto_utm_crs(gdf):\n",
        "    g = gdf.to_crs(4326).geometry\n",
        "    c = (g.union_all() if hasattr(g, \"union_all\") else g.unary_union).centroid\n",
        "    lon, lat = float(c.x), float(c.y)\n",
        "    zone = int((lon + 180)//6) + 1\n",
        "    south = \"+south\" if lat < 0 else \"\"\n",
        "    return f\"+proj=utm +zone={zone} {south} +datum=WGS84 +units=m +no_defs\"\n",
        "\n",
        "def bearing_to_compass(b):\n",
        "    dirs = [\"N\",\"NNE\",\"NE\",\"ENE\",\"E\",\"ESE\",\"SE\",\"SSE\",\n",
        "            \"S\",\"SSW\",\"SW\",\"WSW\",\"W\",\"WNW\",\"NW\",\"NNW\"]\n",
        "    try:\n",
        "        return dirs[int((float(b) % 360)/22.5 + 0.5) % 16]\n",
        "    except:\n",
        "        return \"–\"\n",
        "\n",
        "# ---- lagoons in WGS84 ----\n",
        "wet_ll = wet.to_crs(4326)\n",
        "dry_ll = dry.to_crs(4326)\n",
        "geom_u = wet_ll.geometry.union_all() if hasattr(wet_ll.geometry, \"union_all\") else wet_ll.geometry.unary_union\n",
        "ctr = geom_u.centroid\n",
        "\n",
        "# ---- base map ----\n",
        "m = folium.Map(location=[float(ctr.y), float(ctr.x)], zoom_start=11, tiles='cartodbpositron')\n",
        "folium.TileLayer(\n",
        "    tiles='https://server.arcgisonline.com/ArcGIS/rest/services/World_Imagery/MapServer/tile/{z}/{y}/{x}',\n",
        "    name='ESRI World Imagery',\n",
        "    attr='Esri'\n",
        ").add_to(m)\n",
        "\n",
        "# ---- lagoons (styled) ----\n",
        "# Wet: outline + light fill\n",
        "folium.GeoJson(\n",
        "    wet_ll, name='Lagoons — Wet season',\n",
        "    style_function=lambda f: {\n",
        "        'color': '#1f78b4',\n",
        "        'weight': 1,\n",
        "        'fillColor': '#1f78b4',\n",
        "        'fillOpacity': 0.15\n",
        "    }\n",
        ").add_to(m)\n",
        "\n",
        "# Dry: filled\n",
        "folium.GeoJson(\n",
        "    dry_ll, name='Lagoons — Dry season',\n",
        "    style_function=lambda f: {\n",
        "        'color': '#ffbf00',\n",
        "        'weight': 1,\n",
        "        'fillColor': '#ffbf00',\n",
        "        'fillOpacity': 0.25\n",
        "    }\n",
        ").add_to(m)\n",
        "\n",
        "# ---- vectors (lines) ----\n",
        "if (lines is not None) and (not lines.empty):\n",
        "    L = lines.dropna(subset=['geometry']).copy()\n",
        "\n",
        "    # simplify while keeping attributes\n",
        "    if SIMPLIFY_LINES and not L.empty:\n",
        "        try:\n",
        "            utm = auto_utm_crs(wet)\n",
        "            L = L.to_crs(utm).copy()\n",
        "            L['geometry'] = L.geometry.simplify(SIMPL_TOL_M, preserve_topology=True)\n",
        "            L = L[~L.geometry.is_empty & L.geometry.notna()].copy()\n",
        "            L = L.to_crs(4326)\n",
        "        except Exception:\n",
        "            L = L.to_crs(4326)\n",
        "    else:\n",
        "        L = L.to_crs(4326)\n",
        "\n",
        "    cols_avail = list(getattr(L, 'columns', []))\n",
        "    tooltip_fields = [c for c in ('speed_m_per_year','dir_deg_math','error') if c in cols_avail]\n",
        "\n",
        "    def style_fun(feat):\n",
        "        v = feat['properties'].get('speed_m_per_year', None)\n",
        "        return {'color': color_by_speed(v), 'weight': 2, 'opacity': 0.9}\n",
        "\n",
        "    folium.GeoJson(\n",
        "        L, name='Offset vectors', style_function=style_fun,\n",
        "        tooltip=GeoJsonTooltip(fields=tooltip_fields,\n",
        "                               aliases=['speed (m/yr)','dir (deg)','error'][:len(tooltip_fields)])\n",
        "    ).add_to(m)\n",
        "\n",
        "    # “Fast vectors” (> FAST_TH m/yr)\n",
        "    if 'speed_m_per_year' in cols_avail:\n",
        "        try:\n",
        "            Lfast = L[L['speed_m_per_year'].astype(float) > FAST_TH]\n",
        "        except Exception:\n",
        "            Lfast = L.iloc[0:0]\n",
        "        if not Lfast.empty:\n",
        "            folium.GeoJson(\n",
        "                Lfast, name=f'Vectors (> {FAST_TH} m/yr)',\n",
        "                style_function=lambda f: {'color':'#e31a1c','weight':2,'opacity':0.9},\n",
        "                tooltip=GeoJsonTooltip(fields=tooltip_fields,\n",
        "                                       aliases=['speed (m/yr)','dir (deg)','error'][:len(tooltip_fields)])\n",
        "            ).add_to(m)\n",
        "\n",
        "# ---- plugins ----\n",
        "Fullscreen().add_to(m)\n",
        "MiniMap(toggle_display=True).add_to(m)\n",
        "\n",
        "# Put MeasureControl *near cartodbpositron/LayerControl* (bottom-left),\n",
        "# and use km / km² with secondary m / ha.\n",
        "m.add_child(MeasureControl(\n",
        "    position='bottomleft',\n",
        "    primary_length_unit='kilometers',\n",
        "    secondary_length_unit='meters',\n",
        "    primary_area_unit='sqkilometers',\n",
        "    secondary_area_unit='hectares',\n",
        "    active_color='#e67e22',\n",
        "    completed_color='#2c3e50'\n",
        "))\n",
        "MousePosition(prefix='lat/lon').add_to(m)\n",
        "\n",
        "# LayerControl bottom-left (keeps top-right free for the cards)\n",
        "folium.LayerControl(collapsed=False, position='bottomleft').add_to(m)\n",
        "\n",
        "# ---- cards (top-right): Results + Speed legend side-by-side ----\n",
        "# Larger, clearer text\n",
        "BASE_CARD_CSS = \"background:white;padding:12px 14px;border:1px solid #bbb;font-size:14px;line-height:1.35;\"\n",
        "TITLE_CSS = \"font-weight:600;font-size:14px;\"\n",
        "\n",
        "# speed legend\n",
        "bins_labels = [f'≤{q:.0f}' for q in BINS] + ['>']\n",
        "legend_html = f'<div style=\"{BASE_CARD_CSS}\">'\n",
        "legend_html += f'<div style=\"{TITLE_CSS}\">Dune migration speed (m/yr)</div>'\n",
        "for label, c in zip(bins_labels, COLS + [COLS[-1]]):\n",
        "    legend_html += f'<div><i style=\"background:{c};width:12px;height:12px;display:inline-block;margin-right:8px;border:1px solid #888;\"></i>{label}</div>'\n",
        "legend_html += '</div>'\n",
        "\n",
        "# results card (optional)\n",
        "KPIS = f\"{DRIVE_DIR}/summary_results.json\"\n",
        "card_html = f\"\"\"\n",
        "    <div style=\"{BASE_CARD_CSS}\">\n",
        "      <div style=\"{TITLE_CSS}\">SertAI — Results (SAR / AOT)</div>\n",
        "      <div>Period: {k.get('period','–')}</div>\n",
        "      <hr style=\"margin: 6px 0; border-top: 1px solid #ddd;\">\n",
        "\n",
        "      <div style=\"{TITLE_CSS}; color:#1f78b4;\">Hydrology (Lagoon)</div>\n",
        "      <div>Lagoon area — wet season: {k.get('wet_area_km2',0):,.1f} km²</div>\n",
        "      <div>Lagoon area — dry season: {k.get('dry_area_km2',0):,.1f} km²</div>\n",
        "      <div style=\"font-weight:600;\">Δ Lagoon Area: {k.get('delta_km2',0):+,.1f} km²</div>\n",
        "\n",
        "      <hr style=\"margin: 6px 0; border-top: 1px solid #ddd;\">\n",
        "\n",
        "      <div style=\"{TITLE_CSS}; color:#e31a1c;\">Aeolian (Dune Migration)</div>\n",
        "      <div>Migration Speed (90% of Active Dunes): <span style=\"font-weight:600;\">{k.get('speed_p90',0):,.0f} m/yr</span></div>\n",
        "      <div>Overall Motion Speed (Median): {k.get('speed_p50',0):,.0f} m/yr</div>\n",
        "      <div>Mean Migration Direction: <span style=\"font-weight:600;\">{bearing_str}</span></div>\n",
        "    </div>\"\"\"\n",
        "\n",
        "# container (top-right), side-by-side with some gap\n",
        "ui_stack = f\"\"\"\n",
        "<div style=\"position: fixed; top: 20px; right: 20px; z-index: 9999; display: flex; gap: 14px;\">\n",
        "  {card_html if card_html else \"\"}\n",
        "  {legend_html}\n",
        "</div>\n",
        "\"\"\"\n",
        "m.get_root().html.add_child(folium.Element(ui_stack))\n",
        "\n",
        "# (optional) small CSS tweak to keep measure panel readable\n",
        "custom_css = \"\"\"\n",
        "<style>\n",
        ".leaflet-control-measure .results .stats,\n",
        ".leaflet-control-measure .results .coord,\n",
        ".leaflet-control-measure .toggle { font-size: 13px; }\n",
        "</style>\n",
        "\"\"\"\n",
        "m.get_root().html.add_child(folium.Element(custom_css))\n",
        "\n",
        "# ---- save ----\n",
        "m.save(OUT_HTML)\n",
        "OUT_HTML\n",
        "\n"
      ],
      "id": "UxojDW6C461Z",
      "execution_count": 38,
      "outputs": [
        {
          "output_type": "execute_result",
          "data": {
            "text/plain": [
              "'/content/drive/MyDrive/SertAI_GEE_Exports/map_resultados.html'"
            ],
            "application/vnd.google.colaboratory.intrinsic+json": {
              "type": "string"
            }
          },
          "metadata": {},
          "execution_count": 38
        }
      ]
    },
    {
      "cell_type": "code",
      "source": [
        "from IPython.display import IFrame\n",
        "IFrame('/content/drive/MyDrive/SertAI_GEE_Exports/map_resultados.html', width=1100, height=650)\n"
      ],
      "metadata": {
        "colab": {
          "base_uri": "https://localhost:8080/",
          "height": 671
        },
        "id": "Y-tJzwLH7N4P",
        "outputId": "f705a3cb-ba01-424b-a292-0768ecbf0ea7"
      },
      "id": "Y-tJzwLH7N4P",
      "execution_count": 39,
      "outputs": [
        {
          "output_type": "execute_result",
          "data": {
            "text/plain": [
              "<IPython.lib.display.IFrame at 0x7e489be8fad0>"
            ],
            "text/html": [
              "\n",
              "        <iframe\n",
              "            width=\"1100\"\n",
              "            height=\"650\"\n",
              "            src=\"/content/drive/MyDrive/SertAI_GEE_Exports/map_resultados.html\"\n",
              "            frameborder=\"0\"\n",
              "            allowfullscreen\n",
              "            \n",
              "        ></iframe>\n",
              "        "
            ]
          },
          "metadata": {},
          "execution_count": 39
        }
      ]
    }
  ],
  "metadata": {
    "kernelspec": {
      "display_name": "Python 3",
      "language": "python",
      "name": "python3"
    },
    "language_info": {
      "name": "python",
      "version": "3.x"
    },
    "colab": {
      "provenance": [],
      "include_colab_link": true
    }
  },
  "nbformat": 4,
  "nbformat_minor": 5
}